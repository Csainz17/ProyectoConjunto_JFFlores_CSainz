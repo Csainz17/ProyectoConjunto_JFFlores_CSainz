{
 "cells": [
  {
   "cell_type": "markdown",
   "metadata": {},
   "source": [
    "___\n",
    "<img style=\"float: right; margin: 0px 0px 15px 15px;\" src=\"https://i.stack.imgur.com/rUI8q.png\" width=\"300px\" height=\"100px\" />\n",
    "\n",
    "<font color= #2E9AFE>  `Estudiante1`</font>\n",
    "# <font color= blue> Simulación de Procesos Financieros.</font>\n",
    "#### <font color= #2E9AFE>  `¿Qué espero de la materia?`</font>\n",
    "- <Strong> Aprender a programar de manera vectorizada y funcional </Strong>\n",
    "- <Strong> Utilizar herramientas matemáticas con el fin de crear simulaciones Montecarlo  </Strong>\n",
    "- <Strong> Realizar la valuación de opciones vainilla, Asiática, Americana y Barrera </Strong> \n",
    "- <Strong> Solucionar problemas prácticos mediante valuación de opciones </Strong>  \n",
    "___"
   ]
  },
  {
   "cell_type": "markdown",
   "metadata": {},
   "source": [
    "# Python is becoming the world’s most popular coding language\n",
    "\n",
    "> De acuerdo con el artículo publicado por \"The Economist\" en 2018, Guido Van Rossum, uno de los encargados de Python en 1989 no esperaba que el lenguaje fuese tan consumido por las masas. \n",
    "\n",
    "> Además, se indica que durante el 2018, Python tuvo más búsquedas en Google que la famosa super estrella Kim Kardashian.\n",
    "\n",
    "> Indican que los dos factores más importantes del lenguaje son su **simplicidad** y **flexibilidad** los cuales se ven reflejados en los más de 145,000 paquetes creados por los usuarios disponibles online.\n",
    "\n",
    "> De acuerdo con el artículo, para el 2018 los 6 lenguajes de programación más populares eran los siguientes:\n",
    "\n",
    "| $Ranking$ | $Lenguaje$ |\n",
    "|---------|------------------------------|\n",
    "|  $1$      | Java                     |\n",
    "| $2$       | C                        |\n",
    "| $3$       | C++                      |\n",
    "| $4$       | Python                   |\n",
    "| $5$       | C#                       |\n",
    "| $6$       | Visual Basic             |\n",
    "\n",
    "\n",
    "##### `Referencia `\n",
    "> The Economist (2018). <em> Python is becoming the world’s most popular coding language. </em> Obtenido el 31 de enero del 2018, de https://www.economist.com/graphic-detail/2018/07/26/python-is-becoming-the-worlds-most-popular-coding-language"
   ]
  },
  {
   "cell_type": "markdown",
   "metadata": {},
   "source": [
    "<font color= #2E9AFE>  `Estudiante2`</font>"
   ]
  },
  {
   "cell_type": "code",
   "execution_count": null,
   "metadata": {},
   "outputs": [],
   "source": []
  }
 ],
 "metadata": {
  "kernelspec": {
   "display_name": "Python 3",
   "language": "python",
   "name": "python3"
  },
  "language_info": {
   "codemirror_mode": {
    "name": "ipython",
    "version": 3
   },
   "file_extension": ".py",
   "mimetype": "text/x-python",
   "name": "python",
   "nbconvert_exporter": "python",
   "pygments_lexer": "ipython3",
   "version": "3.7.3"
  }
 },
 "nbformat": 4,
 "nbformat_minor": 2
}
